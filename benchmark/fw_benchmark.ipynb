{
 "cells": [
  {
   "cell_type": "markdown",
   "metadata": {},
   "source": [
    "# Fwumious Wabbit demo"
   ]
  },
  {
   "cell_type": "markdown",
   "metadata": {},
   "source": [
    " to learn more about Fwumious Wabbit go [here]( https://github.com/outbrain/fwumious_wabbit)"
   ]
  },
  {
   "cell_type": "markdown",
   "metadata": {},
   "source": [
    "## part 1 - Wabbit showdown: Fwumious vs. Vowpal\n"
   ]
  },
  {
   "attachments": {},
   "cell_type": "markdown",
   "metadata": {},
   "source": [
    "![benhur.jpg](benhur.jpg)"
   ]
  },
  {
   "cell_type": "markdown",
   "metadata": {},
   "source": [
    "### the task: predict which animal likes to eat what\n"
   ]
  },
  {
   "cell_type": "markdown",
   "metadata": {},
   "source": [
    "\n",
    "Our dataset will be a simple combination of animal and food and\n",
    "outcome - either one likes it (1) or dislikes it (-1)\n",
    "\n",
    "Namespace A will be Animal, and B will be Food. Each animal has its latent\n",
    "type - Herbivore or Carnivore. And each food has its latent type - Plant or\n",
    "Meat.\n",
    "\n",
    "While we will name the features like Herbivore-13 and Plant-55, these are\n",
    "just strings for the algo. But they are handy when we look at the data as\n",
    "humans as the latent variable - and therefore the true value are clear to\n",
    "us.\n",
    "\n",
    "We will split each feature set into two - let's call them A1 & A2 set and B1\n",
    "& B2 set.\n",
    "\n",
    "Our training data will only have interactions between\n",
    "- A1 and (B1 U B2)\n",
    "- B1 and (A1 U A2)\n",
    "\n",
    "Datasets created:\n",
    "train.vw - In the training set there are no interactions between A2 and B2.\n",
    "easy.vw - The distribution here is the same as in training dataset\n",
    "hard.vw - The distribution here consists entirely of interactions between A2\n",
    "and B2.\n",
    "\n",
    "Notes:\n",
    "- if we don't use feature combinations - only namespaces A and B in\n",
    "isolation, then Logistic Regression will not be able to provide any\n",
    "predictive power\n",
    "- if we use plain feature combinations - AB, then LR will easily have\n",
    "correct predictions on easy.vw, but not on hard.vw\n",
    "- Only if the algo is able to capture the existence of latent variable will\n",
    "it be able to perform beyond random on hard.vw"
   ]
  },
  {
   "cell_type": "markdown",
   "metadata": {},
   "source": [
    "#### genereate dataset"
   ]
  },
  {
   "cell_type": "code",
   "execution_count": 12,
   "metadata": {},
   "outputs": [],
   "source": [
    "!python generate.py"
   ]
  },
  {
   "cell_type": "markdown",
   "metadata": {},
   "source": [
    "remove caches"
   ]
  },
  {
   "cell_type": "code",
   "execution_count": 17,
   "metadata": {},
   "outputs": [],
   "source": [
    "!rm *.fwcache; rm *.cache"
   ]
  },
  {
   "cell_type": "markdown",
   "metadata": {},
   "source": [
    "time vw training without cache (creating cache file)"
   ]
  },
  {
   "cell_type": "code",
   "execution_count": 18,
   "metadata": {},
   "outputs": [
    {
     "name": "stdout",
     "output_type": "stream",
     "text": [
      "5.63s user 4.92s system 169% cpu\r\n"
     ]
    }
   ],
   "source": [
    "!(time vw --data train.vw -l 0.1 -b 25 -c --adaptive --sgd --loss_function logistic --link logistic --power_t 0.0 --l2 0.0 --hash all --keep A --keep B) 2>&1 >/dev/null  | tail -n 1 | awk -F\" \" '{ print $13\" \"$14\" \"$15\" \"$16\" \"$17\" \"$18}'"
   ]
  },
  {
   "cell_type": "markdown",
   "metadata": {},
   "source": [
    "time fw training without cache (creating cache file)"
   ]
  },
  {
   "cell_type": "code",
   "execution_count": 19,
   "metadata": {},
   "outputs": [
    {
     "name": "stdout",
     "output_type": "stream",
     "text": [
      "1.25s user 0.22s system 98% cpu\r\n"
     ]
    }
   ],
   "source": [
    "!(time ./fw --data train.vw -l 0.1 -b 25 -c --adaptive --sgd --loss_function logistic --link logistic --power_t 0.0 --l2 0.0 --hash all --keep A --keep B) 2>&1 >/dev/null  | tail -n 1 | awk -F\" \" '{ print $13\" \"$14\" \"$15\" \"$16\" \"$17\" \"$18}'"
   ]
  },
  {
   "cell_type": "markdown",
   "metadata": {},
   "source": [
    "now repeat the training for vw and fw - this time using the cache:"
   ]
  },
  {
   "cell_type": "code",
   "execution_count": 21,
   "metadata": {},
   "outputs": [
    {
     "name": "stdout",
     "output_type": "stream",
     "text": [
      "5.00s user 5.42s system 168% cpu\r\n"
     ]
    }
   ],
   "source": [
    "!(time vw --data train.vw -l 0.1 -b 25 -c --adaptive --sgd --loss_function logistic --link logistic --power_t 0.0 --l2 0.0 --hash all --keep A --keep B) 2>&1 >/dev/null  | tail -n 1 | awk -F\" \" '{ print $13\" \"$14\" \"$15\" \"$16\" \"$17\" \"$18}'"
   ]
  },
  {
   "cell_type": "code",
   "execution_count": 22,
   "metadata": {},
   "outputs": [
    {
     "name": "stdout",
     "output_type": "stream",
     "text": [
      "0.80s user 0.14s system 98% cpu\r\n"
     ]
    }
   ],
   "source": [
    "!(time ./fw --data train.vw -l 0.1 -b 25 -c --adaptive --sgd --loss_function logistic --link logistic --power_t 0.0 --l2 0.0 --hash all --keep A --keep B) 2>&1 >/dev/null  | tail -n 1 | awk -F\" \" '{ print $13\" \"$14\" \"$15\" \"$16\" \"$17\" \"$18}'"
   ]
  },
  {
   "cell_type": "code",
   "execution_count": null,
   "metadata": {},
   "outputs": [],
   "source": []
  }
 ],
 "metadata": {
  "kernelspec": {
   "display_name": "Python 3",
   "language": "python",
   "name": "python3"
  },
  "language_info": {
   "codemirror_mode": {
    "name": "ipython",
    "version": 3
   },
   "file_extension": ".py",
   "mimetype": "text/x-python",
   "name": "python",
   "nbconvert_exporter": "python",
   "pygments_lexer": "ipython3",
   "version": "3.6.10"
  }
 },
 "nbformat": 4,
 "nbformat_minor": 4
}
