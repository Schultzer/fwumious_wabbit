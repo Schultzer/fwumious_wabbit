{
 "cells": [
  {
   "cell_type": "markdown",
   "metadata": {},
   "source": [
    "# Fwumious Wabbit demo"
   ]
  },
  {
   "cell_type": "markdown",
   "metadata": {},
   "source": [
    " to learn more about Fwumious Wabbit go [here]( https://github.com/outbrain/fwumious_wabbit)"
   ]
  },
  {
   "cell_type": "markdown",
   "metadata": {},
   "source": [
    "## Wabbit showdown: Fwumious vs. Vowpal\n"
   ]
  },
  {
   "cell_type": "code",
   "execution_count": 12,
   "metadata": {},
   "outputs": [
    {
     "name": "stdout",
     "output_type": "stream",
     "text": [
      "======================================== CPU Info ========================================\r\n",
      "Physical cores: 4\r\n",
      "Total cores: 8\r\n",
      "Current Frequency: 2900.00Mhz\r\n",
      "======================================== System Information ========================================\r\n",
      "System: Darwin\r\n",
      "Release: 19.6.0\r\n",
      "Version: Darwin Kernel Version 19.6.0: Thu Jun 18 20:49:00 PDT 2020; root:xnu-6153.141.1~1/RELEASE_X86_64\r\n",
      "Machine: x86_64\r\n",
      "Processor: i386\r\n"
     ]
    }
   ],
   "source": [
    "!python print_system_info.py"
   ]
  },
  {
   "cell_type": "markdown",
   "metadata": {},
   "source": [
    "### the task: predict which animal likes to eat what\n"
   ]
  },
  {
   "cell_type": "markdown",
   "metadata": {},
   "source": [
    "We generate a dataset containing 5,000,000 simple combinations of animal, food and outcome - either the animal likes the food (1) or it dislikes it (-1)\n",
    "\n",
    "Namespace A will be Animal, and B will be Food.\n",
    "\n",
    "Each animal has its latent type - Herbivore or Carnivore.\n",
    "\n",
    "Each food has its latent type - Plant or Meat.\n",
    "\n",
    "We use feature names like \"Herbivore-13\" and \"Plant-55\". for vw and fw, these are just strings. But they give us humans a hint as to the expected outcome (herbivores like plants, and carnivores like meat...)"
   ]
  },
  {
   "cell_type": "markdown",
   "metadata": {},
   "source": [
    "### simple logistic regression showdown\n",
    "\n"
   ]
  },
  {
   "cell_type": "markdown",
   "metadata": {},
   "source": [
    "**genereate dataset**"
   ]
  },
  {
   "cell_type": "code",
   "execution_count": null,
   "metadata": {},
   "outputs": [],
   "source": [
    "!python cleanup.py"
   ]
  },
  {
   "cell_type": "code",
   "execution_count": 19,
   "metadata": {},
   "outputs": [],
   "source": [
    "!python generate.py"
   ]
  },
  {
   "cell_type": "markdown",
   "metadata": {},
   "source": [
    "review the first 10 lines of the generated training data"
   ]
  },
  {
   "cell_type": "code",
   "execution_count": 24,
   "metadata": {},
   "outputs": [
    {
     "name": "stdout",
     "output_type": "stream",
     "text": [
      "-1 |A Carnivore-0 |B Plant-2\r\n",
      "1 |A Carnivore-2 |B Meat-4\r\n",
      "-1 |A Carnivore-1 |B Plant-2\r\n",
      "-1 |A Carnivore-2 |B Plant-4\r\n",
      "-1 |A Carnivore-5 |B Plant-0\r\n",
      "1 |A Carnivore-5 |B Meat-3\r\n",
      "1 |A Carnivore-0 |B Meat-1\r\n",
      "-1 |A Carnivore-1 |B Plant-4\r\n",
      "1 |A Herbivore-2 |B Plant-3\r\n",
      "-1 |A Herbivore-3 |B Meat-1\r\n"
     ]
    }
   ],
   "source": [
    "!head -n 10 train.vw"
   ]
  },
  {
   "cell_type": "code",
   "execution_count": 42,
   "metadata": {},
   "outputs": [],
   "source": [
    "!gzip train.vw"
   ]
  },
  {
   "cell_type": "markdown",
   "metadata": {},
   "source": [
    "**measure vw training time - not reading from cache (cache file is created)**\n",
    "\n",
    "*note that in order for the model to learn successfully - we use feature interactions. if we replace \"--interactions AB\" with \"--keep A --keep B\" the model won't improve with training.*"
   ]
  },
  {
   "cell_type": "code",
   "execution_count": 43,
   "metadata": {},
   "outputs": [],
   "source": [
    "!python clean_caches.py"
   ]
  },
  {
   "cell_type": "code",
   "execution_count": 44,
   "metadata": {},
   "outputs": [
    {
     "name": "stdout",
     "output_type": "stream",
     "text": [
      "13.27s user 6.79s system 141% cpu 14.196 total\r\n"
     ]
    }
   ],
   "source": [
    "!(time vw --data train.vw.gz -l 0.1 -b 25 -c --adaptive --sgd --loss_function logistic --link logistic --power_t 0.0 --l2 0.0 --hash all --final_regressor vw_model --save_resume --interactions AB) 2>&1 >/dev/null  | tail -n 1 | awk -F\" \" '{ print $13\" \"$14\" \"$15\" \"$16\" \"$17\" \"$18\" \"$19\" \"$20}'"
   ]
  },
  {
   "cell_type": "markdown",
   "metadata": {},
   "source": [
    "**measure fw training time - not reading from cache (cache file is created)**"
   ]
  },
  {
   "cell_type": "code",
   "execution_count": 45,
   "metadata": {},
   "outputs": [
    {
     "name": "stdout",
     "output_type": "stream",
     "text": [
      "2.82s user 0.34s system 97% cpu 3.248 total\r\n"
     ]
    }
   ],
   "source": [
    "!(time ./fw --data train.vw.gz -l 0.1 -b 25 -c --adaptive --fastmath --sgd --loss_function logistic --link logistic --power_t 0.0 --l2 0.0 --hash all --final_regressor fw_model --save_resume --interactions AB) 2>&1 >/dev/null  | tail -n 1 | awk -F\" \" '{ print $13\" \"$14\" \"$15\" \"$16\" \"$17\" \"$18\" \"$19\" \"$20}'"
   ]
  },
  {
   "cell_type": "markdown",
   "metadata": {},
   "source": [
    "**now repeat the training for vw and fw - this time using the cache:**"
   ]
  },
  {
   "cell_type": "code",
   "execution_count": 46,
   "metadata": {},
   "outputs": [
    {
     "name": "stdout",
     "output_type": "stream",
     "text": [
      "7.35s user 6.53s system 157% cpu 8.800 total\r\n"
     ]
    }
   ],
   "source": [
    "!(time vw --data train.vw.gz -l 0.1 -b 25 -c --adaptive --sgd --loss_function logistic --link logistic --power_t 0.0 --l2 0.0 --hash all --interactions AB) 2>&1 >/dev/null  | tail -n 1 | awk -F\" \" '{ print $13\" \"$14\" \"$15\" \"$16\" \"$17\" \"$18\" \"$19\" \"$20}'"
   ]
  },
  {
   "cell_type": "code",
   "execution_count": 47,
   "metadata": {},
   "outputs": [
    {
     "name": "stdout",
     "output_type": "stream",
     "text": [
      "user 0.15s system 95% cpu 1.216 total \r\n"
     ]
    }
   ],
   "source": [
    "!(time ./fw --data train.vw.gz -l 0.1 -b 25 -c --adaptive --sgd --loss_function logistic --link logistic --power_t 0.0 --l2 0.0 --hash all --interactions AB) 2>&1 >/dev/null  | tail -n 1 | awk -F\" \" '{ print $13\" \"$14\" \"$15\" \"$16\" \"$17\" \"$18\" \"$19\" \"$20}'"
   ]
  },
  {
   "cell_type": "markdown",
   "metadata": {},
   "source": [
    "**make predictions with both models:**"
   ]
  },
  {
   "cell_type": "code",
   "execution_count": null,
   "metadata": {},
   "outputs": [],
   "source": []
  }
 ],
 "metadata": {
  "kernelspec": {
   "display_name": "Python 3",
   "language": "python",
   "name": "python3"
  },
  "language_info": {
   "codemirror_mode": {
    "name": "ipython",
    "version": 3
   },
   "file_extension": ".py",
   "mimetype": "text/x-python",
   "name": "python",
   "nbconvert_exporter": "python",
   "pygments_lexer": "ipython3",
   "version": "3.8.3"
  }
 },
 "nbformat": 4,
 "nbformat_minor": 4
}
