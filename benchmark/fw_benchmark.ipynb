{
 "cells": [
  {
   "cell_type": "markdown",
   "metadata": {},
   "source": [
    "# Fwumious Wabbit demo"
   ]
  },
  {
   "cell_type": "markdown",
   "metadata": {},
   "source": [
    " to learn more about Fwumious Wabbit go [here]( https://github.com/outbrain/fwumious_wabbit)"
   ]
  },
  {
   "cell_type": "markdown",
   "metadata": {},
   "source": [
    "## Wabbit showdown: Fwumious vs. Vowpal\n"
   ]
  },
  {
   "cell_type": "markdown",
   "metadata": {},
   "source": [
    "### the task: predict which animal likes to eat what\n"
   ]
  },
  {
   "cell_type": "markdown",
   "metadata": {},
   "source": [
    "We generate a dataset containing 5,000,000 simple combinations of animal, food and outcome - either the animal likes the food (1) or it dislikes it (-1)\n",
    "\n",
    "Namespace A will be Animal, and B will be Food.\n",
    "\n",
    "Each animal has its latent type - Herbivore or Carnivore.\n",
    "\n",
    "Each food has its latent type - Plant or Meat.\n",
    "\n",
    "We use feature names like \"Herbivore-13\" and \"Plant-55\". for vw and fw, these are just strings. But they give us humans a hint as to the expected outcome (herbivores like plants, and carnivores like meat...)"
   ]
  },
  {
   "cell_type": "markdown",
   "metadata": {},
   "source": [
    "### simple logistic regression showdown\n",
    "\n"
   ]
  },
  {
   "cell_type": "markdown",
   "metadata": {},
   "source": [
    "genereate dataset + for you review: the first 10 lines of the generated training data"
   ]
  },
  {
   "cell_type": "code",
   "execution_count": 25,
   "metadata": {},
   "outputs": [
    {
     "name": "stdout",
     "output_type": "stream",
     "text": [
      "1 |A Carnivore-1 |B Meat-4\r\n",
      "-1 |A Herbivore-0 |B Meat-2\r\n",
      "1 |A Herbivore-5 |B Plant-0\r\n",
      "-1 |A Herbivore-1 |B Meat-0\r\n",
      "-1 |A Carnivore-4 |B Plant-0\r\n",
      "-1 |A Carnivore-3 |B Plant-0\r\n",
      "-1 |A Carnivore-1 |B Plant-5\r\n",
      "-1 |A Herbivore-4 |B Meat-1\r\n",
      "1 |A Herbivore-1 |B Plant-4\r\n",
      "-1 |A Carnivore-0 |B Plant-2\r\n"
     ]
    }
   ],
   "source": [
    "!python generate.py\n",
    "!head -n 10 train.vw"
   ]
  },
  {
   "cell_type": "markdown",
   "metadata": {},
   "source": [
    "remove caches"
   ]
  },
  {
   "cell_type": "code",
   "execution_count": 32,
   "metadata": {},
   "outputs": [],
   "source": [
    "!rm *.fwcache; rm *.cache"
   ]
  },
  {
   "cell_type": "markdown",
   "metadata": {},
   "source": [
    "measure vw training time - not reading from cache (cache file is created)\n",
    "\n",
    "*note that in order for the model to learn successfully - we use feature interactions. if we replace \"--interactions AB\" with \"--keep A --keep B\" the model won't improve with training.*"
   ]
  },
  {
   "cell_type": "code",
   "execution_count": 33,
   "metadata": {},
   "outputs": [
    {
     "name": "stdout",
     "output_type": "stream",
     "text": [
      "5.70s user 4.78s system 170% cpu\r\n"
     ]
    }
   ],
   "source": [
    "!(time vw --data train.vw -l 0.1 -b 25 -c --adaptive --sgd --loss_function logistic --link logistic --power_t 0.0 --l2 0.0 --hash all --interactions AB) 2>&1 >/dev/null  | tail -n 1 | awk -F\" \" '{ print $13\" \"$14\" \"$15\" \"$16\" \"$17\" \"$18}'"
   ]
  },
  {
   "cell_type": "markdown",
   "metadata": {},
   "source": [
    "measure fw training time - not reading from cache (cache file is created)"
   ]
  },
  {
   "cell_type": "code",
   "execution_count": 34,
   "metadata": {},
   "outputs": [
    {
     "name": "stdout",
     "output_type": "stream",
     "text": [
      "1.20s user 0.20s system 96% cpu\r\n"
     ]
    }
   ],
   "source": [
    "!(time ./fw --data train.vw -l 0.1 -b 25 -c --adaptive --sgd --loss_function logistic --link logistic --power_t 0.0 --l2 0.0 --hash all --interactions AB) 2>&1 >/dev/null  | tail -n 1 | awk -F\" \" '{ print $13\" \"$14\" \"$15\" \"$16\" \"$17\" \"$18}'"
   ]
  },
  {
   "cell_type": "markdown",
   "metadata": {},
   "source": [
    "now repeat the training for vw and fw - this time using the cache:"
   ]
  },
  {
   "cell_type": "code",
   "execution_count": 35,
   "metadata": {},
   "outputs": [
    {
     "name": "stdout",
     "output_type": "stream",
     "text": [
      "5.33s user 5.48s system 169% cpu\r\n"
     ]
    }
   ],
   "source": [
    "!(time vw --data train.vw -l 0.1 -b 25 -c --adaptive --sgd --loss_function logistic --link logistic --power_t 0.0 --l2 0.0 --hash all --interactions AB) 2>&1 >/dev/null  | tail -n 1 | awk -F\" \" '{ print $13\" \"$14\" \"$15\" \"$16\" \"$17\" \"$18}'"
   ]
  },
  {
   "cell_type": "code",
   "execution_count": 36,
   "metadata": {},
   "outputs": [
    {
     "name": "stdout",
     "output_type": "stream",
     "text": [
      "0.77s user 0.12s system 98% cpu\r\n"
     ]
    }
   ],
   "source": [
    "!(time ./fw --data train.vw -l 0.1 -b 25 -c --adaptive --sgd --loss_function logistic --link logistic --power_t 0.0 --l2 0.0 --hash all --interactions AB) 2>&1 >/dev/null  | tail -n 1 | awk -F\" \" '{ print $13\" \"$14\" \"$15\" \"$16\" \"$17\" \"$18}'"
   ]
  },
  {
   "cell_type": "code",
   "execution_count": null,
   "metadata": {},
   "outputs": [],
   "source": []
  }
 ],
 "metadata": {
  "kernelspec": {
   "display_name": "Python 3",
   "language": "python",
   "name": "python3"
  },
  "language_info": {
   "codemirror_mode": {
    "name": "ipython",
    "version": 3
   },
   "file_extension": ".py",
   "mimetype": "text/x-python",
   "name": "python",
   "nbconvert_exporter": "python",
   "pygments_lexer": "ipython3",
   "version": "3.6.10"
  }
 },
 "nbformat": 4,
 "nbformat_minor": 4
}
